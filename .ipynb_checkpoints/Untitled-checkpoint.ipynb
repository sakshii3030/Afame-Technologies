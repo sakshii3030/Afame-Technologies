{
 "cells": [
  {
   "cell_type": "code",
   "execution_count": 2,
   "id": "494fd59c",
   "metadata": {},
   "outputs": [],
   "source": [
    "#importing libraries\n",
    "import pandas as pd\n",
    "import numpy as np\n",
    "import matplotlib.pyplot as plt\n",
    "import seaborn as sns\n"
   ]
  },
  {
   "cell_type": "code",
   "execution_count": 3,
   "id": "eba12c01",
   "metadata": {},
   "outputs": [],
   "source": [
    "pd.set_option('display.max_columns', 10)\n",
    "pd.set_option('display.max_rows', 100)\n",
    "pd.set_option('display.width', 100)  \n",
    "pd.set_option('display.float_format', lambda x: '%.3f' % x)"
   ]
  },
  {
   "cell_type": "code",
   "execution_count": 6,
   "id": "0b5f6bb7",
   "metadata": {},
   "outputs": [],
   "source": [
    "#uploading the dataset\n",
    "df= pd.read_csv('HR data.csv')"
   ]
  },
  {
   "cell_type": "code",
   "execution_count": 8,
   "id": "4947a882",
   "metadata": {},
   "outputs": [
    {
     "data": {
      "text/html": [
       "<div>\n",
       "<style scoped>\n",
       "    .dataframe tbody tr th:only-of-type {\n",
       "        vertical-align: middle;\n",
       "    }\n",
       "\n",
       "    .dataframe tbody tr th {\n",
       "        vertical-align: top;\n",
       "    }\n",
       "\n",
       "    .dataframe thead th {\n",
       "        text-align: right;\n",
       "    }\n",
       "</style>\n",
       "<table border=\"1\" class=\"dataframe\">\n",
       "  <thead>\n",
       "    <tr style=\"text-align: right;\">\n",
       "      <th></th>\n",
       "      <th>Age</th>\n",
       "      <th>Attrition</th>\n",
       "      <th>BusinessTravel</th>\n",
       "      <th>DailyRate</th>\n",
       "      <th>Department</th>\n",
       "      <th>...</th>\n",
       "      <th>WorkLifeBalance</th>\n",
       "      <th>YearsAtCompany</th>\n",
       "      <th>YearsInCurrentRole</th>\n",
       "      <th>YearsSinceLastPromotion</th>\n",
       "      <th>YearsWithCurrManager</th>\n",
       "    </tr>\n",
       "  </thead>\n",
       "  <tbody>\n",
       "    <tr>\n",
       "      <th>0</th>\n",
       "      <td>41</td>\n",
       "      <td>Yes</td>\n",
       "      <td>Travel_Rarely</td>\n",
       "      <td>1102</td>\n",
       "      <td>Sales</td>\n",
       "      <td>...</td>\n",
       "      <td>1</td>\n",
       "      <td>6</td>\n",
       "      <td>4</td>\n",
       "      <td>0</td>\n",
       "      <td>5</td>\n",
       "    </tr>\n",
       "    <tr>\n",
       "      <th>1</th>\n",
       "      <td>49</td>\n",
       "      <td>No</td>\n",
       "      <td>Travel_Frequently</td>\n",
       "      <td>279</td>\n",
       "      <td>Research &amp; Development</td>\n",
       "      <td>...</td>\n",
       "      <td>3</td>\n",
       "      <td>10</td>\n",
       "      <td>7</td>\n",
       "      <td>1</td>\n",
       "      <td>7</td>\n",
       "    </tr>\n",
       "    <tr>\n",
       "      <th>2</th>\n",
       "      <td>37</td>\n",
       "      <td>Yes</td>\n",
       "      <td>Travel_Rarely</td>\n",
       "      <td>1373</td>\n",
       "      <td>Research &amp; Development</td>\n",
       "      <td>...</td>\n",
       "      <td>3</td>\n",
       "      <td>0</td>\n",
       "      <td>0</td>\n",
       "      <td>0</td>\n",
       "      <td>0</td>\n",
       "    </tr>\n",
       "    <tr>\n",
       "      <th>3</th>\n",
       "      <td>33</td>\n",
       "      <td>No</td>\n",
       "      <td>Travel_Frequently</td>\n",
       "      <td>1392</td>\n",
       "      <td>Research &amp; Development</td>\n",
       "      <td>...</td>\n",
       "      <td>3</td>\n",
       "      <td>8</td>\n",
       "      <td>7</td>\n",
       "      <td>3</td>\n",
       "      <td>0</td>\n",
       "    </tr>\n",
       "    <tr>\n",
       "      <th>4</th>\n",
       "      <td>27</td>\n",
       "      <td>No</td>\n",
       "      <td>Travel_Rarely</td>\n",
       "      <td>591</td>\n",
       "      <td>Research &amp; Development</td>\n",
       "      <td>...</td>\n",
       "      <td>3</td>\n",
       "      <td>2</td>\n",
       "      <td>2</td>\n",
       "      <td>2</td>\n",
       "      <td>2</td>\n",
       "    </tr>\n",
       "    <tr>\n",
       "      <th>...</th>\n",
       "      <td>...</td>\n",
       "      <td>...</td>\n",
       "      <td>...</td>\n",
       "      <td>...</td>\n",
       "      <td>...</td>\n",
       "      <td>...</td>\n",
       "      <td>...</td>\n",
       "      <td>...</td>\n",
       "      <td>...</td>\n",
       "      <td>...</td>\n",
       "      <td>...</td>\n",
       "    </tr>\n",
       "    <tr>\n",
       "      <th>1465</th>\n",
       "      <td>36</td>\n",
       "      <td>No</td>\n",
       "      <td>Travel_Frequently</td>\n",
       "      <td>884</td>\n",
       "      <td>Research &amp; Development</td>\n",
       "      <td>...</td>\n",
       "      <td>3</td>\n",
       "      <td>5</td>\n",
       "      <td>2</td>\n",
       "      <td>0</td>\n",
       "      <td>3</td>\n",
       "    </tr>\n",
       "    <tr>\n",
       "      <th>1466</th>\n",
       "      <td>39</td>\n",
       "      <td>No</td>\n",
       "      <td>Travel_Rarely</td>\n",
       "      <td>613</td>\n",
       "      <td>Research &amp; Development</td>\n",
       "      <td>...</td>\n",
       "      <td>3</td>\n",
       "      <td>7</td>\n",
       "      <td>7</td>\n",
       "      <td>1</td>\n",
       "      <td>7</td>\n",
       "    </tr>\n",
       "    <tr>\n",
       "      <th>1467</th>\n",
       "      <td>27</td>\n",
       "      <td>No</td>\n",
       "      <td>Travel_Rarely</td>\n",
       "      <td>155</td>\n",
       "      <td>Research &amp; Development</td>\n",
       "      <td>...</td>\n",
       "      <td>3</td>\n",
       "      <td>6</td>\n",
       "      <td>2</td>\n",
       "      <td>0</td>\n",
       "      <td>3</td>\n",
       "    </tr>\n",
       "    <tr>\n",
       "      <th>1468</th>\n",
       "      <td>49</td>\n",
       "      <td>No</td>\n",
       "      <td>Travel_Frequently</td>\n",
       "      <td>1023</td>\n",
       "      <td>Sales</td>\n",
       "      <td>...</td>\n",
       "      <td>2</td>\n",
       "      <td>9</td>\n",
       "      <td>6</td>\n",
       "      <td>0</td>\n",
       "      <td>8</td>\n",
       "    </tr>\n",
       "    <tr>\n",
       "      <th>1469</th>\n",
       "      <td>34</td>\n",
       "      <td>No</td>\n",
       "      <td>Travel_Rarely</td>\n",
       "      <td>628</td>\n",
       "      <td>Research &amp; Development</td>\n",
       "      <td>...</td>\n",
       "      <td>4</td>\n",
       "      <td>4</td>\n",
       "      <td>3</td>\n",
       "      <td>1</td>\n",
       "      <td>2</td>\n",
       "    </tr>\n",
       "  </tbody>\n",
       "</table>\n",
       "<p>1470 rows × 35 columns</p>\n",
       "</div>"
      ],
      "text/plain": [
       "      Age Attrition     BusinessTravel  DailyRate              Department  ...  WorkLifeBalance  \\\n",
       "0      41       Yes      Travel_Rarely       1102                   Sales  ...                1   \n",
       "1      49        No  Travel_Frequently        279  Research & Development  ...                3   \n",
       "2      37       Yes      Travel_Rarely       1373  Research & Development  ...                3   \n",
       "3      33        No  Travel_Frequently       1392  Research & Development  ...                3   \n",
       "4      27        No      Travel_Rarely        591  Research & Development  ...                3   \n",
       "...   ...       ...                ...        ...                     ...  ...              ...   \n",
       "1465   36        No  Travel_Frequently        884  Research & Development  ...                3   \n",
       "1466   39        No      Travel_Rarely        613  Research & Development  ...                3   \n",
       "1467   27        No      Travel_Rarely        155  Research & Development  ...                3   \n",
       "1468   49        No  Travel_Frequently       1023                   Sales  ...                2   \n",
       "1469   34        No      Travel_Rarely        628  Research & Development  ...                4   \n",
       "\n",
       "      YearsAtCompany YearsInCurrentRole  YearsSinceLastPromotion  YearsWithCurrManager  \n",
       "0                  6                  4                        0                     5  \n",
       "1                 10                  7                        1                     7  \n",
       "2                  0                  0                        0                     0  \n",
       "3                  8                  7                        3                     0  \n",
       "4                  2                  2                        2                     2  \n",
       "...              ...                ...                      ...                   ...  \n",
       "1465               5                  2                        0                     3  \n",
       "1466               7                  7                        1                     7  \n",
       "1467               6                  2                        0                     3  \n",
       "1468               9                  6                        0                     8  \n",
       "1469               4                  3                        1                     2  \n",
       "\n",
       "[1470 rows x 35 columns]"
      ]
     },
     "execution_count": 8,
     "metadata": {},
     "output_type": "execute_result"
    }
   ],
   "source": [
    "#printing the data\n",
    "df"
   ]
  },
  {
   "cell_type": "code",
   "execution_count": 10,
   "id": "9eb9ff1e",
   "metadata": {},
   "outputs": [
    {
     "data": {
      "text/plain": [
       "Index(['Age', 'Attrition', 'BusinessTravel', 'DailyRate', 'Department', 'DistanceFromHome',\n",
       "       'Education', 'EducationField', 'EmployeeCount', 'EmployeeNumber', 'EnvironmentSatisfaction',\n",
       "       'Gender', 'HourlyRate', 'JobInvolvement', 'JobLevel', 'JobRole', 'JobSatisfaction',\n",
       "       'MaritalStatus', 'MonthlyIncome', 'MonthlyRate', 'NumCompaniesWorked', 'Over18', 'OverTime',\n",
       "       'PercentSalaryHike', 'PerformanceRating', 'RelationshipSatisfaction', 'StandardHours',\n",
       "       'StockOptionLevel', 'TotalWorkingYears', 'TrainingTimesLastYear', 'WorkLifeBalance',\n",
       "       'YearsAtCompany', 'YearsInCurrentRole', 'YearsSinceLastPromotion', 'YearsWithCurrManager'],\n",
       "      dtype='object')"
      ]
     },
     "execution_count": 10,
     "metadata": {},
     "output_type": "execute_result"
    }
   ],
   "source": [
    "df.columns"
   ]
  },
  {
   "cell_type": "code",
   "execution_count": 11,
   "id": "3e5d81a0",
   "metadata": {},
   "outputs": [
    {
     "data": {
      "text/plain": [
       "<bound method NDFrame.describe of       Age Attrition     BusinessTravel  DailyRate              Department  ...  WorkLifeBalance  \\\n",
       "0      41       Yes      Travel_Rarely       1102                   Sales  ...                1   \n",
       "1      49        No  Travel_Frequently        279  Research & Development  ...                3   \n",
       "2      37       Yes      Travel_Rarely       1373  Research & Development  ...                3   \n",
       "3      33        No  Travel_Frequently       1392  Research & Development  ...                3   \n",
       "4      27        No      Travel_Rarely        591  Research & Development  ...                3   \n",
       "...   ...       ...                ...        ...                     ...  ...              ...   \n",
       "1465   36        No  Travel_Frequently        884  Research & Development  ...                3   \n",
       "1466   39        No      Travel_Rarely        613  Research & Development  ...                3   \n",
       "1467   27        No      Travel_Rarely        155  Research & Development  ...                3   \n",
       "1468   49        No  Travel_Frequently       1023                   Sales  ...                2   \n",
       "1469   34        No      Travel_Rarely        628  Research & Development  ...                4   \n",
       "\n",
       "      YearsAtCompany YearsInCurrentRole  YearsSinceLastPromotion  YearsWithCurrManager  \n",
       "0                  6                  4                        0                     5  \n",
       "1                 10                  7                        1                     7  \n",
       "2                  0                  0                        0                     0  \n",
       "3                  8                  7                        3                     0  \n",
       "4                  2                  2                        2                     2  \n",
       "...              ...                ...                      ...                   ...  \n",
       "1465               5                  2                        0                     3  \n",
       "1466               7                  7                        1                     7  \n",
       "1467               6                  2                        0                     3  \n",
       "1468               9                  6                        0                     8  \n",
       "1469               4                  3                        1                     2  \n",
       "\n",
       "[1470 rows x 35 columns]>"
      ]
     },
     "execution_count": 11,
     "metadata": {},
     "output_type": "execute_result"
    }
   ],
   "source": [
    "df.describe"
   ]
  },
  {
   "cell_type": "code",
   "execution_count": 13,
   "id": "9349e8a9",
   "metadata": {},
   "outputs": [],
   "source": [
    "#removing unnecessary columns.\n",
    "columns_to_remove = [\"EmployeeCount\", \"WorkLifeBalance\", \"StandardHours\",\"EnvironmentSatisfaction\",\"Over18\",\"PercentSalaryHike\",\"StockOptionLevel\"]\n",
    "df = df.drop(columns_to_remove, axis=1)"
   ]
  },
  {
   "cell_type": "code",
   "execution_count": 14,
   "id": "909e607f",
   "metadata": {},
   "outputs": [
    {
     "data": {
      "text/plain": [
       "(1470, 28)"
      ]
     },
     "execution_count": 14,
     "metadata": {},
     "output_type": "execute_result"
    }
   ],
   "source": [
    "df.shape"
   ]
  },
  {
   "cell_type": "code",
   "execution_count": 25,
   "id": "81ae6697",
   "metadata": {},
   "outputs": [
    {
     "data": {
      "text/plain": [
       "Index(['Employee Age', 'Employee Turnover', 'Business Trip Frequency', 'Daily Pay Rate',\n",
       "       'Distance from Workplace', 'Education Level', 'Field of Study', 'Employee ID',\n",
       "       'Employee Gender', 'HourlyRate', 'JobInvolvement', 'JobLevel', 'JobSatisfaction',\n",
       "       'MonthlyIncome', 'MonthlyRate', 'NumCompaniesWorked', 'OverTime', 'PerformanceRating',\n",
       "       'RelationshipSatisfaction', 'TotalWorkingYears', 'TrainingTimesLastYear', 'YearsAtCompany',\n",
       "       'YearsInCurrentRole', 'YearsSinceLastPromotion', 'YearsWithCurrManager',\n",
       "       'JobRole_Healthcare Representative', 'JobRole_Human Resources',\n",
       "       'JobRole_Laboratory Technician', 'JobRole_Manager', 'JobRole_Manufacturing Director',\n",
       "       'JobRole_Research Director', 'JobRole_Research Scientist', 'JobRole_Sales Executive',\n",
       "       'JobRole_Sales Representative', 'Employee Department_Human Resources',\n",
       "       'Employee Department_Research & Development', 'Employee Department_Sales',\n",
       "       'MaritalStatus_Divorced', 'MaritalStatus_Married', 'MaritalStatus_Single'],\n",
       "      dtype='object')"
      ]
     },
     "execution_count": 25,
     "metadata": {},
     "output_type": "execute_result"
    }
   ],
   "source": [
    "#Giving the columns new names\n",
    "new_column_names = {\n",
    "    \"Age\": \"Employee Age\",\n",
    "    \"Attrition\": \"Employee Turnover\",  \n",
    "    \"BusinessTravel\": \"Business Trip Frequency\",\n",
    "    \"DailyRate\": \"Daily Pay Rate\",\n",
    "    \"Department\": \"Employee Department\",\n",
    "    \"DistanceFromHome\": \"Distance from Workplace\", \n",
    "    \"Education\": \"Education Level\",\n",
    "    \"EducationField\": \"Field of Study\",\n",
    "    \"EmployeeNumber\": \"Employee ID\",  \n",
    "    \"Salary\": \"Employee Salary\",\n",
    "    \"Gender\": \"Employee Gender\",\n",
    "    \"JobRole\" : \"Job Role\"\n",
    "}\n",
    "df = df.rename(columns=new_column_names)\n",
    "df.columns"
   ]
  },
  {
   "cell_type": "code",
   "execution_count": 16,
   "id": "3e8fc2da",
   "metadata": {},
   "outputs": [
    {
     "name": "stdout",
     "output_type": "stream",
     "text": [
      "No duplicate rows found\n"
     ]
    }
   ],
   "source": [
    "#finding duplicates\n",
    "duplicate = df[df.duplicated()]\n",
    "\n",
    "# Print the duplicate rows\n",
    "if len(duplicate) > 0:\n",
    "    print(\"There are duplicate rows in the data\")\n",
    "    print(duplicates.head())\n",
    "else:\n",
    "    print(\"No duplicate rows found\")"
   ]
  },
  {
   "cell_type": "code",
   "execution_count": 38,
   "id": "37d1ea0f",
   "metadata": {},
   "outputs": [],
   "source": [
    "\n"
   ]
  },
  {
   "cell_type": "code",
   "execution_count": 39,
   "id": "d2a91fed",
   "metadata": {},
   "outputs": [
    {
     "name": "stdout",
     "output_type": "stream",
     "text": [
      "Employee Age                                     0\n",
      "Employee Turnover                             1470\n",
      "Business Trip Frequency                          0\n",
      "Daily Pay Rate                                   0\n",
      "Distance from Workplace                          0\n",
      "Education Level                                  0\n",
      "Field of Study                                   0\n",
      "Employee ID                                      0\n",
      "Employee Gender                               1470\n",
      "HourlyRate                                       0\n",
      "JobInvolvement                                   0\n",
      "JobLevel                                         0\n",
      "JobSatisfaction                                  0\n",
      "MonthlyIncome                                    0\n",
      "MonthlyRate                                      0\n",
      "NumCompaniesWorked                               0\n",
      "OverTime                                         0\n",
      "PerformanceRating                                0\n",
      "RelationshipSatisfaction                         0\n",
      "TotalWorkingYears                                0\n",
      "TrainingTimesLastYear                            0\n",
      "YearsAtCompany                                   0\n",
      "YearsInCurrentRole                               0\n",
      "YearsSinceLastPromotion                          0\n",
      "YearsWithCurrManager                             0\n",
      "JobRole_Healthcare Representative                0\n",
      "JobRole_Human Resources                          0\n",
      "JobRole_Laboratory Technician                    0\n",
      "JobRole_Manager                                  0\n",
      "JobRole_Manufacturing Director                   0\n",
      "JobRole_Research Director                        0\n",
      "JobRole_Research Scientist                       0\n",
      "JobRole_Sales Executive                          0\n",
      "JobRole_Sales Representative                     0\n",
      "Employee Department_Human Resources              0\n",
      "Employee Department_Research & Development       0\n",
      "Employee Department_Sales                        0\n",
      "MaritalStatus_Divorced                           0\n",
      "MaritalStatus_Married                            0\n",
      "MaritalStatus_Single                             0\n",
      "dtype: int64\n"
     ]
    }
   ],
   "source": [
    "\n"
   ]
  },
  {
   "cell_type": "code",
   "execution_count": null,
   "id": "93cf6ac3",
   "metadata": {},
   "outputs": [],
   "source": []
  }
 ],
 "metadata": {
  "kernelspec": {
   "display_name": "Python 3 (ipykernel)",
   "language": "python",
   "name": "python3"
  },
  "language_info": {
   "codemirror_mode": {
    "name": "ipython",
    "version": 3
   },
   "file_extension": ".py",
   "mimetype": "text/x-python",
   "name": "python",
   "nbconvert_exporter": "python",
   "pygments_lexer": "ipython3",
   "version": "3.11.5"
  }
 },
 "nbformat": 4,
 "nbformat_minor": 5
}
